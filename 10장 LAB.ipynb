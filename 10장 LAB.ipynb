{
 "cells": [
  {
   "cell_type": "code",
   "execution_count": null,
   "id": "57164a35",
   "metadata": {},
   "outputs": [],
   "source": [
    "#LAB 10-1.1\n",
    "def sub(x,y):\n",
    "    return x-y\n",
    "print('200-100 =',sub(200,100))\n",
    "\n",
    "#LAB 10-1.2\n",
    "sub=lambda x,y:x-y\n",
    "print('200-100 =',sub(200,100))"
   ]
  },
  {
   "cell_type": "code",
   "execution_count": 7,
   "id": "41fe8b07",
   "metadata": {},
   "outputs": [
    {
     "name": "stdout",
     "output_type": "stream",
     "text": [
      "[2, 4, 6, 8, 10]\n",
      "[2, 4, 6, 8, 10]\n",
      "[1, 3, 5, 7, 9]\n",
      "[1, 3, 5, 7, 9]\n"
     ]
    }
   ],
   "source": [
    "#LAB 10-2.1\n",
    "n_list=[1,2,3,4,5,6,7,8,9,10]\n",
    "even_list=[]\n",
    "\n",
    "for i in filter(lambda x:x%2==0,n_list):\n",
    "    even_list.append(i)\n",
    "print(even_list)\n",
    "\n",
    "even_list2=list(filter(lambda x:x%2==0,n_list))\n",
    "print(even_list2)\n",
    "\n",
    "\n",
    "#LAB 10-2.2\n",
    "odd_list=[]\n",
    "for j in filter(lambda x:x%2!=0,n_list):\n",
    "    odd_list.append(j)\n",
    "print(odd_list)\n",
    "\n",
    "odd_list2=list(filter(lambda x:x%2!=0,n_list))\n",
    "print(odd_list2)"
   ]
  },
  {
   "cell_type": "code",
   "execution_count": 20,
   "id": "cafaea77",
   "metadata": {},
   "outputs": [
    {
     "name": "stdout",
     "output_type": "stream",
     "text": [
      "['A', 'B', 'C', 'D']\n",
      "['A', 'B', 'C', 'D']\n",
      "입력 값의 두 배 : [20, 40, 60]\n",
      "입력 값의 세 배 : [30, 60, 90]\n",
      "입력 값의 두 배 : [20, 40, 60]\n",
      "입력 값의 세 배 : [30, 60, 90]\n"
     ]
    }
   ],
   "source": [
    "#LAB 10-3.1.1\n",
    "a_list=['a','b','c','d']\n",
    "\n",
    "def to_upper(x):\n",
    "    return x.upper()\n",
    "upper_list=list(map(to_upper,a_list))\n",
    "print(upper_list)\n",
    "\n",
    "#LAB 10-3.1.2\n",
    "upper_list2=list(map(lambda x:x.upper(),a_list))\n",
    "print(upper_list2)\n",
    "\n",
    "#LAB 10-3.2.1\n",
    "n_list=[10,20,30]\n",
    "def twice(n):\n",
    "    return n*2\n",
    "def triple(n):\n",
    "    return n*3\n",
    "print('입력 값의 두 배 :',list(map(twice,n_list)))\n",
    "print('입력 값의 세 배 :',list(map(triple,n_list)))\n",
    "\n",
    "#LAB 10-3.2.2\n",
    "print('입력 값의 두 배 :',list(map(lambda x: x*2,n_list)))\n",
    "print('입력 값의 세 배 :',list(map(lambda x: x*3,n_list)))"
   ]
  },
  {
   "cell_type": "code",
   "execution_count": 24,
   "id": "4d483b23",
   "metadata": {},
   "outputs": [
    {
     "name": "stdout",
     "output_type": "stream",
     "text": [
      "1에서 100까지의 합 : 5050\n",
      "10! = 3628800\n"
     ]
    }
   ],
   "source": [
    "#LAB 10-4.1\n",
    "from functools import reduce\n",
    "\n",
    "a=list(range(1,101))\n",
    "n=reduce(lambda x,y: x+y,a)\n",
    "print('1에서 100까지의 합 :',n)\n",
    "\n",
    "#LAB 10-4.2\n",
    "b=list(range(1,11))\n",
    "n1=reduce(lambda x,y:x*y,b)\n",
    "print('10! =',n1)"
   ]
  },
  {
   "cell_type": "code",
   "execution_count": 33,
   "id": "1bd54675",
   "metadata": {},
   "outputs": [
    {
     "name": "stdout",
     "output_type": "stream",
     "text": [
      "cubic= [1, 8, 27, 64, 125, 216, 343, 512, 729, 1000]\n",
      "a= ['welcom', 'to', 'the', 'python', 'world']\n",
      "first_a= ['w', 't', 't', 'p', 'w']\n"
     ]
    }
   ],
   "source": [
    "#LAB 10-5.1\n",
    "cubic=[x**3 for x in range(1,11)]\n",
    "print('cubic=',cubic)\n",
    "\n",
    "#LAB 10-5.2\n",
    "a=['welcom','to','the','python','world']\n",
    "first_a=[x[0] for x in a]\n",
    "print('a=',a)\n",
    "print('first_a=',first_a)"
   ]
  },
  {
   "cell_type": "code",
   "execution_count": 37,
   "id": "0c279a85",
   "metadata": {},
   "outputs": [
    {
     "name": "stdout",
     "output_type": "stream",
     "text": [
      "cubic= [1, 8, 27, 64, 125, 216, 343]\n",
      "['1', '2', '3', '4']\n"
     ]
    }
   ],
   "source": [
    "#LAB 10-6.1\n",
    "cubic=[x**3 for x in range(1,11) if x**3<=500]\n",
    "print('cubic=',cubic)\n",
    "\n",
    "#LAB 10-6.2\n",
    "st='Hello 1234 Python'\n",
    "print([x for x in st if x.isdigit()])"
   ]
  },
  {
   "cell_type": "code",
   "execution_count": 47,
   "id": "94902c8f",
   "metadata": {},
   "outputs": [
    {
     "name": "stdout",
     "output_type": "stream",
     "text": [
      "0 2 4 6 8\n"
     ]
    }
   ],
   "source": [
    "#LAB 10-7.1\n",
    "class EvenCounter:\n",
    "    def __init__(self,n=0):\n",
    "        self.n=n\n",
    "    def __iter__(self):\n",
    "        return self\n",
    "    def __next__(self):\n",
    "        if self.n<=20:\n",
    "        \n",
    "            t=self.n\n",
    "            self.n+=2\n",
    "            return t\n",
    "        raise StopIteration\n",
    "my_even=EvenCounter()\n",
    "\n",
    "print(my_even.__next__(),my_even.__next__(),my_even.__next__(),my_even.__next__(),my_even.__next__())"
   ]
  },
  {
   "cell_type": "code",
   "execution_count": 48,
   "id": "433a8953",
   "metadata": {},
   "outputs": [
    {
     "name": "stdout",
     "output_type": "stream",
     "text": [
      "0 2 4 6 8 10 12 14 16 18 20 "
     ]
    }
   ],
   "source": [
    "#LAB 10-7.2\n",
    "\n",
    "class EvenCounter:\n",
    "    def __init__(self,n=0):\n",
    "        self.n=n\n",
    "    def __iter__(self):\n",
    "        return self\n",
    "    def __next__(self):\n",
    "        if self.n<=20:\n",
    "        \n",
    "            t=self.n\n",
    "            self.n+=2\n",
    "            return t\n",
    "        raise StopIteration\n",
    "my_even=EvenCounter()\n",
    "\n",
    "for x in my_even:\n",
    "    print(x,end=\" \")\n"
   ]
  },
  {
   "cell_type": "code",
   "execution_count": 40,
   "id": "97723f00",
   "metadata": {},
   "outputs": [
    {
     "data": {
      "text/plain": [
       "['Apple', 'Banana', 'Melon', 'Orange']"
      ]
     },
     "execution_count": 40,
     "metadata": {},
     "output_type": "execute_result"
    }
   ],
   "source": [
    "#LAB 10-8.1\n",
    "txt='Welcome to Busan Metropolitan City.'\n",
    "txt.split()\n",
    "\n",
    "#LAB 10-8.2\n",
    "greet='Hello,My name is Dongmin,Good to see you again'\n",
    "greet.split(',')\n",
    "\n",
    "#LAB 10-8.3\n",
    "fruits='Apple|Banana|Melon|Orange'\n",
    "fruits.split('|')"
   ]
  },
  {
   "cell_type": "code",
   "execution_count": null,
   "id": "904d64cc",
   "metadata": {},
   "outputs": [],
   "source": []
  }
 ],
 "metadata": {
  "kernelspec": {
   "display_name": "Python 3 (ipykernel)",
   "language": "python",
   "name": "python3"
  },
  "language_info": {
   "codemirror_mode": {
    "name": "ipython",
    "version": 3
   },
   "file_extension": ".py",
   "mimetype": "text/x-python",
   "name": "python",
   "nbconvert_exporter": "python",
   "pygments_lexer": "ipython3",
   "version": "3.9.12"
  }
 },
 "nbformat": 4,
 "nbformat_minor": 5
}
