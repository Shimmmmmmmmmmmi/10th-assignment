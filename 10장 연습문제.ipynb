{
 "cells": [
  {
   "cell_type": "code",
   "execution_count": 2,
   "id": "1e939bed",
   "metadata": {},
   "outputs": [
    {
     "data": {
      "text/plain": [
       "function"
      ]
     },
     "execution_count": 2,
     "metadata": {},
     "output_type": "execute_result"
    }
   ],
   "source": [
    "#10.1\n",
    "f1=lambda x : x*x\n",
    "type(f1)\n",
    "\n",
    "def f2(x):\n",
    "    return x*x\n",
    "type(f2)"
   ]
  },
  {
   "cell_type": "code",
   "execution_count": 7,
   "id": "aeeffcd4",
   "metadata": {},
   "outputs": [
    {
     "data": {
      "text/plain": [
       "130"
      ]
     },
     "execution_count": 7,
     "metadata": {},
     "output_type": "execute_result"
    }
   ],
   "source": [
    "#10.2\n",
    "f=lambda x:x*x\n",
    "f(10)\n",
    "\n",
    "f=lambda x,y:x+y\n",
    "f(10,10)\n",
    "\n",
    "f=lambda x,y,z=100:x+y+z\n",
    "f(10,20)"
   ]
  },
  {
   "cell_type": "code",
   "execution_count": 13,
   "id": "d729d2b5",
   "metadata": {},
   "outputs": [
    {
     "name": "stdout",
     "output_type": "stream",
     "text": [
      "[('GilDong', 'Hong', 27), ('YuSin', 'Gim', 34), ('SunSin', 'Lee', 46)]\n",
      "[('YuSin', 'Gim', 34), ('GilDong', 'Hong', 27), ('SunSin', 'Lee', 46)]\n",
      "[('SunSin', 'Lee', 46), ('YuSin', 'Gim', 34), ('GilDong', 'Hong', 27)]\n"
     ]
    }
   ],
   "source": [
    "#10.3\n",
    "\n",
    "persons=[('GilDong','Hong',27),('SunSin','Lee',46),('YuSin','Gim',34)]\n",
    "print(sorted(persons,key=lambda info: info[2]))\n",
    "\n",
    "print(sorted(persons,key=lambda info: info[1]))\n",
    "\n",
    "print(sorted(persons,key=lambda info: info[2],reverse=True))"
   ]
  },
  {
   "cell_type": "code",
   "execution_count": 32,
   "id": "113c8ce3",
   "metadata": {},
   "outputs": [
    {
     "name": "stdout",
     "output_type": "stream",
     "text": [
      "[('Half', 'HALF'), ('of', 'OF'), ('my', 'MY'), ('heart', 'HEART'), ('is', 'IS'), ('in', 'IN'), ('Havana', 'HAVANA')]\n",
      "[('Half', 'HALF'), ('of', 'OF'), ('my', 'MY'), ('heart', 'HEART'), ('is', 'IS'), ('in', 'IN'), ('Havana', 'HAVANA')]\n"
     ]
    }
   ],
   "source": [
    "#10.4.1\n",
    "lyrics='Half of my heart is in Havana'\n",
    "a=lyrics.split(' ')\n",
    "b=[]\n",
    "\n",
    "for i in a:\n",
    "    b.append((i,i.upper()))\n",
    "print(b)\n",
    "\n",
    "#10.4.2\n",
    "d=[(x,x.upper()) for x in a]\n",
    "print(d)"
   ]
  },
  {
   "cell_type": "code",
   "execution_count": 54,
   "id": "e7569e61",
   "metadata": {},
   "outputs": [
    {
     "name": "stdout",
     "output_type": "stream",
     "text": [
      "[('Half', 4), ('of', 2), ('my', 2), ('heart', 5), ('is', 2), ('in', 2), ('havana', 6)]\n",
      "[('Half', 4), ('of', 2), ('my', 2), ('heart', 5), ('is', 2), ('in', 2), ('havana', 6)]\n"
     ]
    }
   ],
   "source": [
    "#10.5.1\n",
    "lyrics='Half of my heart is in havana'\n",
    "a=lyrics.split(' ')\n",
    "b=[]\n",
    "for i in a:\n",
    "    b.append((i,len(i)))\n",
    "print(b)\n",
    "\n",
    "\n",
    "#10.5.2\n",
    "\n",
    "c=[(i,len(i)) for i in a]\n",
    "print(c)"
   ]
  },
  {
   "cell_type": "code",
   "execution_count": 59,
   "id": "2092f9bc",
   "metadata": {},
   "outputs": [
    {
     "name": "stdout",
     "output_type": "stream",
     "text": [
      "[24, 144]\n",
      "[24, 144]\n",
      "[24, 144]\n"
     ]
    }
   ],
   "source": [
    "#10.6.1\n",
    "n_list=[44,66,34,24,144,98,38,568,234,345]\n",
    "new_list=[]\n",
    "for i in n_list:\n",
    "    if i%12==0:\n",
    "        new_list.append(i)\n",
    "print(new_list)\n",
    "\n",
    "#10.6.2\n",
    "n_list=[44,66,34,24,144,98,38,568,234,345]\n",
    "new_list=list(filter(lambda x:x%12==0,n_list))\n",
    "print(new_list)\n",
    "\n",
    "#10.6.3\n",
    "n_list=[44,66,34,24,144,98,38,568,234,345]\n",
    "new_list=[x for x in n_list if x%12==0]\n",
    "print(new_list)"
   ]
  },
  {
   "cell_type": "code",
   "execution_count": 69,
   "id": "2bd6fb46",
   "metadata": {},
   "outputs": [
    {
     "name": "stdout",
     "output_type": "stream",
     "text": [
      "[29, 902, 45]\n",
      "[29, 902, 45]\n",
      "[29, 902, 45]\n"
     ]
    }
   ],
   "source": [
    "#10.7.1\n",
    "n_list=[-22.3,29.44,902.2,45.7,-887.1,-56.3]\n",
    "new_list=[]\n",
    "for i in n_list:\n",
    "    if i>0:\n",
    "        new_list.append(int(i))\n",
    "print(new_list)\n",
    "\n",
    "#10.7.2\n",
    "n_list=[-22.3,29.44,902.2,45.7,-887.1,-56.3]\n",
    "new_list=list(map(int,filter(lambda x:x>0,n_list)))\n",
    "print(new_list)\n",
    "\n",
    "\n",
    "#10.7.3\n",
    "n_list=[-22.3,29.44,902.2,45.7,-887.1,-56.3]\n",
    "new_list=[int(x) for x in n_list if x>0]\n",
    "print(new_list)"
   ]
  },
  {
   "cell_type": "code",
   "execution_count": 75,
   "id": "36ba0d13",
   "metadata": {},
   "outputs": [
    {
     "name": "stdout",
     "output_type": "stream",
     "text": [
      "최댓값= 902.2\n",
      "최솟값= -887.1\n",
      "True\n"
     ]
    }
   ],
   "source": [
    "#10.8.1\n",
    "n_list=[-22.3,29.44,902.2,45.7,-887.1,-56.3]\n",
    "print('최댓값=',max(n_list))\n",
    "print('최솟값=',min(n_list))\n",
    "\n",
    "#10.8.2\n",
    "def my_max(n):\n",
    "    for i in n:\n",
    "        if \n",
    "\n",
    "\n",
    "#10.8.3\n",
    "from functools import reduce\n"
   ]
  },
  {
   "cell_type": "code",
   "execution_count": 83,
   "id": "ebb204f2",
   "metadata": {},
   "outputs": [
    {
     "name": "stdout",
     "output_type": "stream",
     "text": [
      "[6, 12, 18, 24, 30, 36, 42, 48, 54, 60, 66, 72, 78, 84, 90, 96]\n",
      "[6, 12, 18, 24, 30, 36, 42, 48, 54, 60, 66, 72, 78, 84, 90, 96]\n",
      "[6, 12, 18, 24, 30, 36, 42, 48, 54, 60, 66, 72, 78, 84, 90, 96]\n"
     ]
    }
   ],
   "source": [
    "#10.9.1\n",
    "n_list=list(range(1,101))\n",
    "new_list=[]\n",
    "for i in n_list:\n",
    "    if i%6==0:\n",
    "        new_list.append(i)\n",
    "print(new_list)\n",
    "\n",
    "#10.9.2\n",
    "\n",
    "new_list=list(filter(lambda x:x%6==0,n_list))\n",
    "print(new_list)\n",
    "\n",
    "#10.9.3\n",
    "new_list=[x for x in n_list if x%6==0]\n",
    "print(new_list)"
   ]
  },
  {
   "cell_type": "code",
   "execution_count": 86,
   "id": "c8b8f041",
   "metadata": {},
   "outputs": [
    {
     "name": "stdout",
     "output_type": "stream",
     "text": [
      "[42, 84]\n",
      "[42, 84]\n",
      "[42, 84]\n"
     ]
    }
   ],
   "source": [
    "#10.10.1\n",
    "n_list=list(range(1,101))\n",
    "new_list=[]\n",
    "for i in n_list:\n",
    "    if i%6==0 and i%7==0:\n",
    "        new_list.append(i)\n",
    "print(new_list)\n",
    "\n",
    "#10.10.2\n",
    "\n",
    "new_list=list(filter(lambda x:x%6==0 and x%7==0,n_list))\n",
    "print(new_list)\n",
    "\n",
    "#10.10.3\n",
    "new_list=[x for x in n_list if x%6==0 and x%7==0]\n",
    "print(new_list)"
   ]
  },
  {
   "cell_type": "code",
   "execution_count": 95,
   "id": "1c17bd0f",
   "metadata": {},
   "outputs": [
    {
     "name": "stdout",
     "output_type": "stream",
     "text": [
      "['One', 'Two', 'Three', 'Four']\n",
      "['One', 'Two', 'Three', 'Four']\n",
      "['One', 'Two', 'Three', 'Four']\n"
     ]
    }
   ],
   "source": [
    "#10.11.1\n",
    "a=['one','two','three','four']\n",
    "b=[]\n",
    "for i in a:\n",
    "    b.append(i.replace(i[0],i[0].upper()))\n",
    "print(b)\n",
    "\n",
    "#10.11.2\n",
    "b=list(map(lambda x:x.replace(x[0],x[0].upper()),a))\n",
    "print(b)\n",
    "\n",
    "#10.11.3\n",
    "b=[x.replace(x[0],x[0].upper()) for x in a]\n",
    "print(b)"
   ]
  },
  {
   "cell_type": "code",
   "execution_count": 99,
   "id": "2cccc9a6",
   "metadata": {},
   "outputs": [
    {
     "name": "stdout",
     "output_type": "stream",
     "text": [
      "['SUN', 'MON', 'TUE', 'WED', 'THU', 'FRI', 'SAT']\n",
      "['SUN', 'MON', 'TUE', 'WED', 'THU', 'FRI', 'SAT']\n",
      "['SUN', 'MON', 'TUE', 'WED', 'THU', 'FRI', 'SAT']\n"
     ]
    }
   ],
   "source": [
    "#10.12.1\n",
    "a=['sunday','monday','tuesday','wednesday','thursday','friday','saturday']\n",
    "b=[]\n",
    "for i in a:\n",
    "    b.append(i[:3].upper())\n",
    "print(b)\n",
    "\n",
    "#10.12.2\n",
    "b=list(map(lambda x:x[:3].upper(),a))\n",
    "print(b)\n",
    "\n",
    "#10.12.3\n",
    "b=[x[:3].upper() for x in a]\n",
    "print(b)"
   ]
  },
  {
   "cell_type": "code",
   "execution_count": 104,
   "id": "167fa4b3",
   "metadata": {},
   "outputs": [
    {
     "data": {
      "text/plain": [
       "[2004, 2008, 2012, 2016, 2020, 2024, 2028]"
      ]
     },
     "execution_count": 104,
     "metadata": {},
     "output_type": "execute_result"
    }
   ],
   "source": [
    "#10.13.1\n",
    "def leap(start,end):\n",
    "    leap_list=list(filter(lambda x: (x%4==0 and x%100!=0) or (x%400==0),range(start,end+1)))\n",
    "    return leap_list\n",
    "\n",
    "#10.13.2\n",
    "def leap(start,end):\n",
    "    leap_list=[x for x in range(start,end+1) if (x%4==0 and x%100!=0) or (x%400==0)]\n",
    "    return leap_list\n"
   ]
  },
  {
   "cell_type": "code",
   "execution_count": null,
   "id": "4632dc4b",
   "metadata": {},
   "outputs": [],
   "source": []
  }
 ],
 "metadata": {
  "kernelspec": {
   "display_name": "Python 3 (ipykernel)",
   "language": "python",
   "name": "python3"
  },
  "language_info": {
   "codemirror_mode": {
    "name": "ipython",
    "version": 3
   },
   "file_extension": ".py",
   "mimetype": "text/x-python",
   "name": "python",
   "nbconvert_exporter": "python",
   "pygments_lexer": "ipython3",
   "version": "3.9.12"
  }
 },
 "nbformat": 4,
 "nbformat_minor": 5
}
