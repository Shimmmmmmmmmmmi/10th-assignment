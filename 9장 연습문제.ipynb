{
 "cells": [
  {
   "cell_type": "code",
   "execution_count": 6,
   "id": "1552b8da",
   "metadata": {},
   "outputs": [
    {
     "name": "stdout",
     "output_type": "stream",
     "text": [
      "457\n",
      "-211\n",
      "41082\n",
      "41.0\n"
     ]
    }
   ],
   "source": [
    "#9.1\n",
    "print((123).__add__(334))\n",
    "print((123).__sub__(334))\n",
    "print((123).__mul__(334))\n",
    "print((123).__truediv__(3))"
   ]
  },
  {
   "cell_type": "code",
   "execution_count": 13,
   "id": "1118bcce",
   "metadata": {},
   "outputs": [
    {
     "name": "stdout",
     "output_type": "stream",
     "text": [
      "a와 b는 같은 객체인가? True\n",
      "b와 c는 같은 객체인가? False\n",
      "c와 d는 같은 객체인가? False\n",
      "d와 e는 같은 객체인가? True\n"
     ]
    }
   ],
   "source": [
    "#9.5\n",
    "a,b,c,d,e=1,1,2,3,3\n",
    "\n",
    "print('a와 b는 같은 객체인가?',a is b)\n",
    "print('b와 c는 같은 객체인가?',b is c)\n",
    "print('c와 d는 같은 객체인가?',c is d)\n",
    "print('d와 e는 같은 객체인가?',d is e)\n"
   ]
  },
  {
   "cell_type": "code",
   "execution_count": 17,
   "id": "557c9eae",
   "metadata": {},
   "outputs": [
    {
     "name": "stdout",
     "output_type": "stream",
     "text": [
      "my_dog의 이름은 Mango이고, 나이는 3살입니다.\n"
     ]
    }
   ],
   "source": [
    "#9.6\n",
    "class Dog:\n",
    "    def __init__(self,name,age):\n",
    "        self.name=name\n",
    "        self.age=age\n",
    "    \n",
    "\n",
    "my_dog=Dog('Mango',3)\n",
    "print('my_dog의 이름은 {}이고, 나이는 {}살입니다.'.format(my_dog.name,my_dog.age))"
   ]
  },
  {
   "cell_type": "code",
   "execution_count": 37,
   "id": "f1cd1465",
   "metadata": {},
   "outputs": [
    {
     "name": "stdout",
     "output_type": "stream",
     "text": [
      "이름은 Mango이고, 나이는 3살입니다\n"
     ]
    }
   ],
   "source": [
    "#9.7\n",
    "class Dog:\n",
    "    def __init__(self,name,age):\n",
    "        self.name=name\n",
    "        self.age=age\n",
    "    def __str__(self):\n",
    "        return '이름은 {}이고, 나이는 {}살입니다'.format(self.name,self.age)\n",
    "\n",
    "my_dog=Dog('Mango',3)\n",
    "print(my_dog)"
   ]
  },
  {
   "cell_type": "code",
   "execution_count": 39,
   "id": "287abaf6",
   "metadata": {},
   "outputs": [
    {
     "name": "stdout",
     "output_type": "stream",
     "text": [
      "c1= C(11)\n",
      "c2= C(1)\n",
      "c2= C(0)\n"
     ]
    }
   ],
   "source": [
    "#9.8\n",
    "\n",
    "class Counter:\n",
    "    def __init__(self,number=0):\n",
    "        self.__number=number\n",
    "        if number>=100 or number<=-1:\n",
    "            self.__number=0\n",
    "    def reset(self):\n",
    "        self.__number=0\n",
    "    def inc(self):\n",
    "        self.__number=self.__number+1\n",
    "        if self.__number>=100:\n",
    "            self.__number=0\n",
    "    def dec(self):\n",
    "        self.__number=self.__number-1\n",
    "        if self.__number<=-1:\n",
    "            self.__number=0\n",
    "        \n",
    "    def __str__(self):\n",
    "        return 'C('+str(self.__number)+')'\n",
    "c1=Counter(10)\n",
    "c1.inc()\n",
    "print('c1=',c1)\n",
    "\n",
    "c2=Counter()\n",
    "c2.inc()\n",
    "c2.inc()\n",
    "c2.dec()\n",
    "print('c2=',c2)\n",
    "c2.reset()\n",
    "print('c2=',c2)\n"
   ]
  },
  {
   "cell_type": "code",
   "execution_count": 41,
   "id": "e2baa5fa",
   "metadata": {},
   "outputs": [
    {
     "name": "stdout",
     "output_type": "stream",
     "text": [
      "c3= C(30)\n",
      "c4= C(0)\n"
     ]
    }
   ],
   "source": [
    "#9.9\n",
    "class Counter:\n",
    "    def __init__(self,number=0):\n",
    "        self.__number=number\n",
    "        if number>=100 or number<=-1:\n",
    "            self.__number=0\n",
    "    def reset(self):\n",
    "        self.__number=0\n",
    "    def inc(self):\n",
    "        self.__number=self.__number+1\n",
    "        if self.__number>=100:\n",
    "            self.__number=0\n",
    "    def dec(self):\n",
    "        self.__number=self.__number-1\n",
    "        if self.__number<=-1:\n",
    "            self.__number=0\n",
    "        \n",
    "    def __str__(self):\n",
    "        return 'C('+str(self.__number)+')'\n",
    "    def __add__(self,other):\n",
    "        return Counter(self.__number+other.__number)\n",
    "    \n",
    "    def __sub__(self,other):\n",
    "        return Counter(self.__number-other.__number)\n",
    "    \n",
    "c1=Counter(10)\n",
    "c2=Counter(20)\n",
    "c3=c1+c2\n",
    "c4=c1-c2\n",
    "print('c3=',c3)\n",
    "print('c4=',c4)\n"
   ]
  },
  {
   "cell_type": "code",
   "execution_count": 62,
   "id": "47468f08",
   "metadata": {},
   "outputs": [
    {
     "name": "stdout",
     "output_type": "stream",
     "text": [
      "홍길동님의 계좌 1234-0001의 잔고는 0원입니다.\n",
      "홍길동님의 계좌 1234-0001의 잔고는 2000원입니다.\n",
      "홍길동님의 계좌 1234-0001의 잔고는 1500원입니다.\n"
     ]
    },
    {
     "data": {
      "text/plain": [
       "'계좌 잔고는 1500원으로 인출 요구 금액 5000원보다 작습니다.'"
      ]
     },
     "execution_count": 62,
     "metadata": {},
     "output_type": "execute_result"
    }
   ],
   "source": [
    "#9.10\n",
    "class BankAccount:\n",
    "    def __init__(self,name,account_num,balance=0):\n",
    "        self.__name=name\n",
    "        self.__account_num=account_num\n",
    "        self.__balance=balance\n",
    "    def __str__(self):\n",
    "        return '{}님의 계좌 {}의 잔고는 {}원입니다.'.format(self.__name,self.__account_num,self.__balance)\n",
    "    def get_name(self):\n",
    "        return self.__name\n",
    "    def get_account_num(self):\n",
    "        return self.__account_num\n",
    "    def get_balance(self):\n",
    "        return  self.__balance\n",
    "    def deposit(self,money):\n",
    "        self.__balance=self.__balance+money\n",
    "    def withdraw(self,money):\n",
    "        \n",
    "        if self.__balance<money:\n",
    "            return '계좌 잔고는 {}원으로 인출 요구 금액 {}원보다 작습니다.'.format(self.__balance,money)\n",
    "        elif  self.__balance>=money:\n",
    "            self.__balance=self.__balance-money\n",
    "            \n",
    "account1=BankAccount('홍길동','1234-0001')        \n",
    "print(account1)\n",
    "account1.deposit(2000)\n",
    "print(account1)\n",
    "account1.withdraw(500)\n",
    "print(account1)\n",
    "account1.withdraw(5000)"
   ]
  },
  {
   "cell_type": "code",
   "execution_count": 63,
   "id": "94d1751e",
   "metadata": {},
   "outputs": [
    {
     "name": "stdout",
     "output_type": "stream",
     "text": [
      "학생의 이름을 입력하세요:홍길동\n",
      "학생의 학번을 입력하세요:20200012\n",
      "학생의 국어 성적을 입력하세요:85\n",
      "학생의 수학 성적을 입력하세요:90\n",
      "학생의 과학 성적을 입력하세요:95\n",
      "이름:홍길동, 학번:20200012\n",
      "국어성적:85,수학성적:90,과학성적:95\n",
      "합계:270,평균:90.0\n"
     ]
    }
   ],
   "source": [
    "#9.11\n",
    "class Student:\n",
    "    def __init__(self,name,sudent_id,korean_quiz=0,math_quiz=0,science_quiz=0,total_score=korean_quiz+math_quiz+science_quiz):\n",
    "        self.__name=name\n",
    "        self.__sudent_id=sudent_id\n",
    "        self.__korean_quiz=korean_quiz\n",
    "        self.__math_quiz=math_quiz\n",
    "        self.__science_quiz=science_quiz\n",
    "        self.__total_score=total_score\n",
    "    def __str__(self):\n",
    "        return '이름:{}, 학번:{}\\n국어성적:{},수학성적:{},과학성적:{}\\n합계:{},평균:{}'.format(self.__name,self.__sudent_id,self.__korean_quiz,self.__math_quiz,self.__science_quiz,self.__total_score,self.__total_score/3)\n",
    "    def get_name(self):\n",
    "        print('이름:',self.__name)\n",
    "    def get_sudent_id(self):\n",
    "        return self.__sudent_id\n",
    "    def get_korean_quiz(self):\n",
    "        return self.__korean_quiz\n",
    "    def get_math_quiz(self):\n",
    "        return self.__math_quiz\n",
    "    def get_science_quiz(self):\n",
    "        return self.__science_quiz\n",
    "    def set_korean_quiz(self,score):\n",
    "        self.__korean_quiz=self.__korean_quiz+score\n",
    "    def set_math_quiz(self,score):\n",
    "        self.__math_quiz=self.__math_quiz+score\n",
    "    def set_science_quiz(self,score):\n",
    "        self.__science_quiz=self.__science_quiz+score\n",
    "    def get_total_score(self):\n",
    "        print('total_score:',self.__total_score)\n",
    "    def get_avg_score(self):\n",
    "        print('avg_score:',self.__total_score/3)\n",
    "\n",
    "name=input('학생의 이름을 입력하세요:')\n",
    "sudent_id=input('학생의 학번을 입력하세요:')\n",
    "\n",
    "student=Student(name,sudent_id)\n",
    "\n",
    "korean_quiz=int(input('학생의 국어 성적을 입력하세요:'))\n",
    "math_quiz=int(input('학생의 수학 성적을 입력하세요:'))\n",
    "science_quiz=int(input('학생의 과학 성적을 입력하세요:'))\n",
    "student.set_korean_quiz(korean_quiz)\n",
    "student.set_math_quiz(math_quiz)\n",
    "student.set_science_quiz(science_quiz)\n",
    "print(student)"
   ]
  },
  {
   "cell_type": "code",
   "execution_count": 73,
   "id": "bc73a8e5",
   "metadata": {},
   "outputs": [
    {
     "name": "stdout",
     "output_type": "stream",
     "text": [
      "TV가 꺼짐 상태입니다.\n",
      "volume=5,channel=0\n",
      "volume=5,channel=200\n",
      "volume=6,channel=0\n"
     ]
    }
   ],
   "source": [
    "#9.12\n",
    "class TV:\n",
    "    MIN_VOLUME=0\n",
    "    MAX_VOLUME=20\n",
    "    MIN_CHANNEL=0\n",
    "    MAX_CHANNEL=200\n",
    "    def __init__(self,volume=5,channel=0,is_on='False'):\n",
    "        self.__volume=volume\n",
    "        self.__channel=channel\n",
    "        self.__is_on=is_on\n",
    "    def __str__(self):\n",
    "        if self.__is_on=='False':\n",
    "            return 'TV가 꺼짐 상태입니다.'\n",
    "        else:\n",
    "            return 'volume={},channel={}'.format(self.__volume,self.__channel)\n",
    "    def toggle_power(self):\n",
    "        if self.__is_on=='False':\n",
    "            self.__is_on='True'\n",
    "        elif self.__is_on=='True':\n",
    "            self.__is_on='False'\n",
    "            \n",
    "    def get_channel(self):\n",
    "        return self.__channel\n",
    "    def set_channel(self,choice):\n",
    "        if choice<=0 or choice>=201:\n",
    "            print('채널 오류')\n",
    "        else:\n",
    "            self.__channel=self.__channel+choice\n",
    "    def get_volume(self):\n",
    "        return self.__volume\n",
    "    def set_volume(self,choice):\n",
    "        if choice<=0 or choice>=21:\n",
    "            print('볼륨오류')\n",
    "        else:\n",
    "            self.__volume=self.__volume+choice\n",
    "    def volume_up(self):\n",
    "        if self.__volume<TV.MAX_VOLUME:\n",
    "            self.__volume=self.__volume+1\n",
    "    def volume_down(self):\n",
    "        if self.__volume>TV.MIN_VOLUME:\n",
    "            self.__volume=self.__volume-1\n",
    "        \n",
    "    def channel_up(self):\n",
    "        if self.__channel+1<201:\n",
    "            self.__channel=self.__channel+1\n",
    "        elif self.__channel+1>=201:\n",
    "            self.__channel=TV.MIN_CHANNEL\n",
    "    def channel_down(self):\n",
    "        if self.__channel-1>0:\n",
    "            self.__channel=self.__channel-1\n",
    "        elif self.__channel-1<=0:\n",
    "            self.__channel=TV.MAX_CHANNEL\n",
    "\n",
    "            \n",
    "my_tv=TV()\n",
    "print(my_tv)\n",
    "my_tv.toggle_power()\n",
    "print(my_tv)\n",
    "my_tv.set_channel(200)\n",
    "print(my_tv)\n",
    "my_tv.volume_up()\n",
    "my_tv.channel_up()\n",
    "print(my_tv)\n",
    "            \n",
    "            \n",
    "    "
   ]
  }
 ],
 "metadata": {
  "kernelspec": {
   "display_name": "Python 3 (ipykernel)",
   "language": "python",
   "name": "python3"
  },
  "language_info": {
   "codemirror_mode": {
    "name": "ipython",
    "version": 3
   },
   "file_extension": ".py",
   "mimetype": "text/x-python",
   "name": "python",
   "nbconvert_exporter": "python",
   "pygments_lexer": "ipython3",
   "version": "3.9.12"
  }
 },
 "nbformat": 4,
 "nbformat_minor": 5
}
