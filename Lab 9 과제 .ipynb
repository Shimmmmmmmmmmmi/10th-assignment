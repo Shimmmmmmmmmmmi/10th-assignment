{
 "cells": [
  {
   "cell_type": "code",
   "execution_count": 2,
   "id": "5edbb346",
   "metadata": {},
   "outputs": [
    {
     "data": {
      "text/plain": [
       "1648529185600"
      ]
     },
     "execution_count": 2,
     "metadata": {},
     "output_type": "execute_result"
    }
   ],
   "source": [
    "animals=['lion','tiger','cat','dog']\n",
    "animals.sort()\n",
    "animals\n",
    "animals.append('rabbit')\n",
    "animals\n",
    "animals.reverse()\n",
    "animals\n",
    "type(animals)\n",
    "id(animals)\n"
   ]
  },
  {
   "cell_type": "code",
   "execution_count": 3,
   "id": "e062e1de",
   "metadata": {},
   "outputs": [
    {
     "name": "stdout",
     "output_type": "stream",
     "text": [
      "1648443482768\n",
      "1648443482800\n"
     ]
    },
    {
     "data": {
      "text/plain": [
       "202"
      ]
     },
     "execution_count": 3,
     "metadata": {},
     "output_type": "execute_result"
    }
   ],
   "source": [
    "n=200\n",
    "print(id(n))\n",
    "n=n+1\n",
    "print(id(n))\n",
    "n.__add__(1)"
   ]
  },
  {
   "cell_type": "code",
   "execution_count": 4,
   "id": "60647c9b",
   "metadata": {},
   "outputs": [
    {
     "name": "stdout",
     "output_type": "stream",
     "text": [
      "40\n"
     ]
    },
    {
     "data": {
      "text/plain": [
       "['__add__',\n",
       " '__class__',\n",
       " '__class_getitem__',\n",
       " '__contains__',\n",
       " '__delattr__',\n",
       " '__delitem__',\n",
       " '__dir__',\n",
       " '__doc__',\n",
       " '__eq__',\n",
       " '__format__',\n",
       " '__ge__',\n",
       " '__getattribute__',\n",
       " '__getitem__',\n",
       " '__gt__',\n",
       " '__hash__',\n",
       " '__iadd__',\n",
       " '__imul__',\n",
       " '__init__',\n",
       " '__init_subclass__',\n",
       " '__iter__',\n",
       " '__le__',\n",
       " '__len__',\n",
       " '__lt__',\n",
       " '__mul__',\n",
       " '__ne__',\n",
       " '__new__',\n",
       " '__reduce__',\n",
       " '__reduce_ex__',\n",
       " '__repr__',\n",
       " '__reversed__',\n",
       " '__rmul__',\n",
       " '__setattr__',\n",
       " '__setitem__',\n",
       " '__sizeof__',\n",
       " '__str__',\n",
       " '__subclasshook__',\n",
       " 'append',\n",
       " 'clear',\n",
       " 'copy',\n",
       " 'count',\n",
       " 'extend',\n",
       " 'index',\n",
       " 'insert',\n",
       " 'pop',\n",
       " 'remove',\n",
       " 'reverse',\n",
       " 'sort']"
      ]
     },
     "execution_count": 4,
     "metadata": {},
     "output_type": "execute_result"
    }
   ],
   "source": [
    "#LAB 9-1.1\n",
    "\n",
    "(200).__sub__(100)\n",
    "(200).__mul__(100)\n",
    "(200).__truediv__(100)\n",
    "\n",
    "#LAB 9-1.2\n",
    "print([10,20,30,40].pop())\n",
    "\n",
    "#LAB 9-1.4\n",
    "dir(int)\n",
    "\n",
    "#LAB 9-1.5\n",
    "dir(list)"
   ]
  },
  {
   "cell_type": "code",
   "execution_count": null,
   "id": "52fc5968",
   "metadata": {},
   "outputs": [],
   "source": [
    "#9-2.1\n",
    "객체지향 프로그래밍 : 프로그램을 짤 때 프로그램을 실제 세상에 가깝게 모델링 하는 기법\n",
    "\n",
    "\n",
    "절차적 프로그래밍: 함수나 모듈을 만들어두고 이것들을 문제 해결 순서에 맞게 호출하여 수행\n",
    "\n",
    "그래픽 사용자 인터페이스:  사용자가 편리하게 사용할 수 있도록 입출력 등의 기능을 알기 쉬운 아이콘 따위의 그래픽으로 나타낸 것\n",
    "\n",
    "#9-2.2\n",
    "\n",
    "OOP는 실제 객체와 그 동작을 사용하여 문제를 표현하는 데 중점을 두는 반면,\n",
    "Procedural Programming은 특정 순서로 실행되는 코드 모음 인 프로 시저를 사용하여 문제에 대한 솔루션을 표현하는 데 중점을 둡니다\n",
    "\n"
   ]
  },
  {
   "cell_type": "code",
   "execution_count": null,
   "id": "325600d0",
   "metadata": {},
   "outputs": [],
   "source": [
    "#9-3.1\n",
    "클래스: 프로그램 상에서 사용되는 속성과 행위를 모아놓은 집합체\n",
    "\n",
    "#9-3.2\n",
    "객체 : 인스턴스를 각각 지칭하는 말\n",
    "#9-3.3\n",
    "인스턴스: 클래스로부터 만들어지는 각각의 개별적인 객체\n",
    "\n",
    "#9-3.4\n",
    "클래스의 속성:클래스 내부의 메서드 단계와 동일한 영역에 위치한 변수\n",
    "\n",
    "#9-3.5\n",
    "클래스의 동작: 객체가 취할 수 있는 동작 -> 메서드 "
   ]
  },
  {
   "cell_type": "code",
   "execution_count": 5,
   "id": "5ba12bbe",
   "metadata": {},
   "outputs": [
    {
     "name": "stdout",
     "output_type": "stream",
     "text": [
      "<__main__.Cat object at 0x0000017FD3FA7D60>\n"
     ]
    }
   ],
   "source": [
    "class Cat:\n",
    "    pass\n",
    "nabi=Cat()\n",
    "print(nabi)"
   ]
  },
  {
   "cell_type": "code",
   "execution_count": 6,
   "id": "52c016c1",
   "metadata": {},
   "outputs": [
    {
     "name": "stdout",
     "output_type": "stream",
     "text": [
      "야옹 야옹~~~~~\n",
      "야옹 야옹~~~~~\n",
      "야옹 야옹~~~~~\n"
     ]
    }
   ],
   "source": [
    "class Cat:\n",
    "    def meow(self):\n",
    "        print('야옹 야옹~~~~~')\n",
    "nabi=Cat()\n",
    "nabi.meow()\n",
    "nero=Cat()\n",
    "nero.meow()\n",
    "mimi=Cat()\n",
    "mimi.meow()"
   ]
  },
  {
   "cell_type": "code",
   "execution_count": 7,
   "id": "0ce3af1a",
   "metadata": {},
   "outputs": [
    {
     "name": "stdout",
     "output_type": "stream",
     "text": [
      "멍멍~~~\n"
     ]
    }
   ],
   "source": [
    "#9-4\n",
    "class Dog:\n",
    "    def bark(self):\n",
    "        print('멍멍~~~')\n",
    "my_dog=Dog()\n",
    "my_dog.bark()"
   ]
  },
  {
   "cell_type": "code",
   "execution_count": 8,
   "id": "a3ab4013",
   "metadata": {},
   "outputs": [
    {
     "name": "stdout",
     "output_type": "stream",
     "text": [
      "내이름은 나비,색깔은 검정색,야옹야옹~~\n",
      "내이름은 네로,색깔은 흰색,야옹야옹~~\n",
      "내이름은 미미,색깔은 갈색,야옹야옹~~\n"
     ]
    }
   ],
   "source": [
    "class Cat:\n",
    "    def __init__(self,name,color='흰색'):\n",
    "        self.name=name\n",
    "        self.color=color\n",
    "    def meow(self):\n",
    "        print('내이름은 {},색깔은 {},야옹야옹~~'.format(self.name,self.color))\n",
    "nabi=Cat('나비','검정색')\n",
    "nero=Cat('네로','흰색')\n",
    "mimi=Cat('미미','갈색')\n",
    "\n",
    "nabi.meow()\n",
    "nero.meow()\n",
    "mimi.meow()"
   ]
  },
  {
   "cell_type": "code",
   "execution_count": 9,
   "id": "faba1cba",
   "metadata": {},
   "outputs": [
    {
     "name": "stdout",
     "output_type": "stream",
     "text": [
      "멍멍~~\n"
     ]
    }
   ],
   "source": [
    "#9-5\n",
    "class Dog:\n",
    "    def __init__(self,name):\n",
    "        self.name=name\n",
    "    def bark(self):\n",
    "        print('멍멍~~')\n",
    "        \n",
    "my_dog=Dog('Jindo')\n",
    "my_dog.bark()"
   ]
  },
  {
   "cell_type": "code",
   "execution_count": 10,
   "id": "cddacc12",
   "metadata": {},
   "outputs": [
    {
     "name": "stdout",
     "output_type": "stream",
     "text": [
      "Cat(name=나비,color=검정색)\n",
      "Cat(name=네로,color=흰색)\n"
     ]
    }
   ],
   "source": [
    "class Cat:\n",
    "    def __init__(self,name,color='흰색'):\n",
    "        self.name=name\n",
    "        self.color=color\n",
    "    def __str__(self):\n",
    "        return 'Cat(name='+self.name+',color='+self.color+')'\n",
    "    \n",
    "nabi=Cat('나비','검정색')\n",
    "nero=Cat('네로','흰색')\n",
    "print(nabi)\n",
    "print(nero)"
   ]
  },
  {
   "cell_type": "code",
   "execution_count": 11,
   "id": "a3342176",
   "metadata": {},
   "outputs": [
    {
     "name": "stdout",
     "output_type": "stream",
     "text": [
      "my_dog의 정보 : Dog(name=Jindo)\n"
     ]
    }
   ],
   "source": [
    "#9-6\n",
    "class Dog:\n",
    "    def __init__(self,name):\n",
    "        self.name=name\n",
    "    def __str__(self):\n",
    "        return 'Dog(name='+self.name+')'\n",
    "my_dog=Dog('Jindo')\n",
    "print('my_dog의 정보 :',my_dog)"
   ]
  },
  {
   "cell_type": "code",
   "execution_count": 1,
   "id": "3e4c5b77",
   "metadata": {},
   "outputs": [
    {
     "name": "stdout",
     "output_type": "stream",
     "text": [
      "n is m\n"
     ]
    }
   ],
   "source": [
    "#9-7\n",
    "n=100\n",
    "m=100\n",
    "if n is m:\n",
    "    print('n is m')\n",
    "else:\n",
    "    print('n is not m')"
   ]
  },
  {
   "cell_type": "code",
   "execution_count": 1,
   "id": "b3f2e188",
   "metadata": {},
   "outputs": [
    {
     "name": "stdout",
     "output_type": "stream",
     "text": [
      "v1+v2= (40,60)\n",
      "v1-v2= (20,20)\n"
     ]
    }
   ],
   "source": [
    "class Vector2D:\n",
    "    def __init__(self,x,y):\n",
    "        self.x=x\n",
    "        self.y=y\n",
    "    def __add__(self,other):\n",
    "        return Vector2D(self.x+other.x,self.y+other.y)\n",
    "    def __sub__(self,other):\n",
    "        return Vector2D(self.x-other.x,self.y-other.y)\n",
    "    def __str__(self):\n",
    "        return '({},{})'.format(self.x,self.y)\n",
    "\n",
    "v1=Vector2D(30,40)\n",
    "v2=Vector2D(10,20)\n",
    "v3=v1+v2\n",
    "print('v1+v2=',v3)\n",
    "v4=v1-v2\n",
    "print('v1-v2=',v4)"
   ]
  },
  {
   "cell_type": "code",
   "execution_count": 14,
   "id": "486b49ee",
   "metadata": {},
   "outputs": [
    {
     "name": "stdout",
     "output_type": "stream",
     "text": [
      "v1*v2= (600,800)\n",
      "v1/v2= (3.0,2.0)\n",
      "-v1= (-10,-20)\n"
     ]
    }
   ],
   "source": [
    "#9-8.1\n",
    "class Vector2D:\n",
    "    def __init__(self,x,y):\n",
    "        self.x=x\n",
    "        self.y=y\n",
    "    def __mul__(self,other):\n",
    "        return Vector2D(self.x*other.y,self.y*other.y)\n",
    "    def __truediv__(self,other):\n",
    "        return Vector2D(self.x/other.x,self.y/other.y)\n",
    "    def __str__(self):\n",
    "        return '({},{})'.format(self.x,self.y)\n",
    "\n",
    "v1=Vector2D(30,40)\n",
    "v2=Vector2D(10,20)\n",
    "v3=v1*v2\n",
    "print('v1*v2=',v3)\n",
    "v4=v1/v2\n",
    "print('v1/v2=',v4)\n",
    "\n",
    "\n",
    "#9-8.2\n",
    "class Vector2D:\n",
    "    def __init__(self,x,y):\n",
    "        self.x=x\n",
    "        self.y=y\n",
    "    def __neg__(self):\n",
    "        return Vector2D(-self.x,-self.y)\n",
    "    def __str__(self):\n",
    "        return '({},{})'.format(self.x,self.y)\n",
    "\n",
    "v1=Vector2D(10,20)    \n",
    "v2=-v1\n",
    "print('-v1=',v2)"
   ]
  },
  {
   "cell_type": "code",
   "execution_count": 22,
   "id": "818317cb",
   "metadata": {},
   "outputs": [
    {
     "name": "stdout",
     "output_type": "stream",
     "text": [
      "v1 > v2= True\n",
      "v1 >= v2= True\n",
      "v1 < v2= False\n",
      "v1 <= v2= False\n"
     ]
    }
   ],
   "source": [
    "#9-9\n",
    "class Vector2D:\n",
    "    def __init__(self,x,y):\n",
    "        self.x=x\n",
    "        self.y=y\n",
    "    def __gt__(self,other):\n",
    "        if self.x>other.x and self.y>other.y:\n",
    "            return True\n",
    "        else:\n",
    "            return False\n",
    "    def __ge__(self,other):\n",
    "        if self.x>=other.x and self.y>=other.y:\n",
    "            return True\n",
    "        else:\n",
    "            return False\n",
    "    def __lt__(self,other):\n",
    "        if self.x<other.x and self.y<other.y:\n",
    "            return True\n",
    "        else:\n",
    "            return False\n",
    "    def __le__(self,other):\n",
    "        if self.x<=other.x and self.y<=other.y:\n",
    "            return True\n",
    "        else:\n",
    "            return False\n",
    "    def __str__(self):\n",
    "        return '({},{})'.format(self.x,self.y)\n",
    "\n",
    "v1=Vector2D(30,40)\n",
    "v2=Vector2D(10,20)\n",
    "\n",
    "print('v1 > v2=',v1>v2)\n",
    "print('v1 >= v2=',v1>=v2)\n",
    "print('v1 < v2=',v1<v2)\n",
    "print('v1 <= v2=',v1<=v2)"
   ]
  },
  {
   "cell_type": "code",
   "execution_count": 12,
   "id": "1e5375f0",
   "metadata": {},
   "outputs": [
    {
     "name": "stdout",
     "output_type": "stream",
     "text": [
      "{'width': 100, 'height': 200}\n",
      "100\n",
      "{'_Rect__width': 100, '_Rect__height': 200}\n",
      "100\n"
     ]
    }
   ],
   "source": [
    "#9-10.1\n",
    "class Rect:\n",
    "    def __init__(self,width,height):\n",
    "        self.width=width\n",
    "        self.height=height\n",
    "r1=Rect(100,200)\n",
    "print(r1.__dict__)\n",
    "print(r1.__dict__['width'])\n",
    "\n",
    "#9-10.2\n",
    "class Rect:\n",
    "    def __init__(self,width,height):\n",
    "        self.__width=width\n",
    "        self.__height=height\n",
    "        \n",
    "r1=Rect(100,200)\n",
    "print(r1.__dict__)\n",
    "print(r1.__dict__['_Rect__width'])        "
   ]
  },
  {
   "cell_type": "code",
   "execution_count": 29,
   "id": "9f4794a2",
   "metadata": {},
   "outputs": [
    {
     "data": {
      "text/plain": [
       "False"
      ]
     },
     "execution_count": 29,
     "metadata": {},
     "output_type": "execute_result"
    }
   ],
   "source": [
    "#9-11\n",
    "\n",
    "a=100\n",
    "b=a\n",
    "id(a)==id(100)\n",
    "id(b)==id(100)\n",
    "id(a)==id(b)\n",
    "a=200\n",
    "id(a)==id(200)\n",
    "id(b)==id(200)\n",
    "id(a)==id(b)"
   ]
  }
 ],
 "metadata": {
  "kernelspec": {
   "display_name": "Python 3 (ipykernel)",
   "language": "python",
   "name": "python3"
  },
  "language_info": {
   "codemirror_mode": {
    "name": "ipython",
    "version": 3
   },
   "file_extension": ".py",
   "mimetype": "text/x-python",
   "name": "python",
   "nbconvert_exporter": "python",
   "pygments_lexer": "ipython3",
   "version": "3.9.12"
  }
 },
 "nbformat": 4,
 "nbformat_minor": 5
}
